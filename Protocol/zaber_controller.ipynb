{
 "cells": [
  {
   "cell_type": "code",
   "execution_count": 1,
   "metadata": {},
   "outputs": [
    {
     "data": {
      "text/plain": [
       "'2.7.13 | packaged by conda-forge | (default, May  2 2017, 13:29:36) \\n[GCC 4.2.1 Compatible Apple LLVM 6.1.0 (clang-602.0.53)]'"
      ]
     },
     "execution_count": 1,
     "metadata": {},
     "output_type": "execute_result"
    }
   ],
   "source": [
    "from zaber_device import ZaberDevice\n",
    "from time import sleep\n",
    "import ipywidgets as widgets\n",
    "from IPython.display import display,clear_output\n",
    "import sys\n",
    "sys.version"
   ]
  },
  {
   "cell_type": "code",
   "execution_count": 3,
   "metadata": {},
   "outputs": [
    {
     "name": "stdout",
     "output_type": "stream",
     "text": [
      "Connected to 6721\n",
      "set to 128 microsteps\n",
      "62.0117185 nm resolution\n",
      "minimum speed: 2.09289549937 mm/hr\n",
      "speed with delay: 1.50334747138 mm/hr\n",
      "\n"
     ]
    }
   ],
   "source": [
    "def move_mm(millimeters):\n",
    "    steps = int(millimeters*1e-3/(nm_resolution*1e-9))\n",
    "    print \"(\",steps,\"steps)\"\n",
    "    dev.move_relative(steps)\n",
    "\n",
    "def openDevice(b):\n",
    "    clear_output()\n",
    "    global dev\n",
    "    dev = ZaberDevice(port='/dev/tty.usbserial-A403L6SM') # Mac OS X\n",
    "    # dev = ZaberDevice(port='COM94') # Windows\n",
    "    print(\"Connected to {}\".format(dev.get_actuator_id()[0]))\n",
    "    global onDur\n",
    "    global offDur\n",
    "    onDur = 5.1\n",
    "    offDur = 2\n",
    "    dev._send_request(37,0,128) # set resolution to 128\n",
    "    print ('set to {} microsteps'.format(dev._get_microstep_resolution()[0]))\n",
    "    global nm_resolution\n",
    "    nm_resolution = 0.124023437*64/dev._get_microstep_resolution()[0]*1000\n",
    "    actualSpeed = nm_resolution*9.375*3600/(10**6) # mm/hr\n",
    "    speedWithDelay = actualSpeed*onDur/(onDur+offDur)\n",
    "    print(\"{} nm resolution\\nminimum speed: {} mm/hr\\nspeed with delay: {} mm/hr\\n\").format(nm_resolution,actualSpeed,speedWithDelay)\n",
    "\n",
    "\n",
    "w = widgets.BoundedFloatText(\n",
    "    value=2,\n",
    "    min=0,\n",
    "    max=9000,\n",
    "    step=0.1,\n",
    "    disabled=False,\n",
    "    layout=widgets.Layout(width='75px')\n",
    ")\n",
    "lbl = widgets.Label(value=\"mm\")\n",
    "\n",
    "up=widgets.Button(\n",
    "    description='UP',\n",
    ")\n",
    "down=widgets.Button(\n",
    "    description='DOWN',\n",
    ")\n",
    "homeBtn=widgets.Button(\n",
    "    description='HOME',\n",
    ")\n",
    "stopBtn=widgets.Button(\n",
    "    description='STOP',\n",
    ")\n",
    "\n",
    "openBtn=widgets.Button(\n",
    "    description='OPEN serial',\n",
    ")\n",
    "\n",
    "closeBtn=widgets.Button(\n",
    "    description='CLOSE serial',\n",
    ")\n",
    "\n",
    "positionBtn=widgets.Button(\n",
    "    description='Get Position',\n",
    ")\n",
    "\n",
    "def sendUp(b):\n",
    "    print -w.value,\"mm\",\n",
    "    move_mm(-w.value)\n",
    "def sendDown(b):\n",
    "    print(w.value),\"mm\",\n",
    "    move_mm(w.value)\n",
    "def goHome(b):\n",
    "    print \"Homing...\"\n",
    "    dev.home()    \n",
    "def stopMotor(b):\n",
    "    dev.stop()\n",
    "def closeDevice(b):\n",
    "    dev.close()\n",
    "    print \"device closed\"\n",
    "def getPos(b):\n",
    "    print(dev.get_position()[0])\n",
    "    \n",
    "up.on_click(sendUp)\n",
    "down.on_click(sendDown)\n",
    "homeBtn.on_click(goHome)\n",
    "stopBtn.on_click(stopMotor)\n",
    "openBtn.on_click(openDevice)\n",
    "closeBtn.on_click(closeDevice)\n",
    "positionBtn.on_click(getPos)\n",
    "\n",
    "connection = widgets.VBox([openBtn,closeBtn])\n",
    "inputBox = widgets.HBox([w,lbl])\n",
    "colm1 = widgets.VBox([up,inputBox,down])\n",
    "colm2 = widgets.VBox([homeBtn,positionBtn,stopBtn])\n",
    "display(widgets.HBox([connection,colm1,colm2]))\n",
    "\n",
    "openDevice(1)"
   ]
  },
  {
   "cell_type": "code",
   "execution_count": 23,
   "metadata": {
    "collapsed": true
   },
   "outputs": [],
   "source": [
    "while(1):    \n",
    "    dev.move_at_speed(-1)\n",
    "    sleep(onDur)\n",
    "    dev.stop()\n",
    "    sleep(offDur)\n",
    "# type I,I to interrupt kernel, then press stop button to stop the movement"
   ]
  }
 ],
 "metadata": {
  "kernelspec": {
   "display_name": "zaber",
   "language": "python",
   "name": "zaber"
  },
  "language_info": {
   "codemirror_mode": {
    "name": "ipython",
    "version": 2
   },
   "file_extension": ".py",
   "mimetype": "text/x-python",
   "name": "python",
   "nbconvert_exporter": "python",
   "pygments_lexer": "ipython2",
   "version": "2.7.13"
  },
  "widgets": {
   "state": {
    "082100e8ec56497d8157c6f3529327cd": {
     "views": [
      {
       "cell_index": 0
      }
     ]
    },
    "0e1fd2c5c10a4ab6a0514cbc3d5eba01": {
     "views": [
      {
       "cell_index": 0
      }
     ]
    },
    "1f9963c3807f4416b84820408ce5604d": {
     "views": [
      {
       "cell_index": 0
      }
     ]
    },
    "201d5b9508e34d70be629ab009d2b813": {
     "views": [
      {
       "cell_index": 0
      }
     ]
    },
    "21cf76f361ae4f72a4223a1cc07f8bbd": {
     "views": [
      {
       "cell_index": 0
      }
     ]
    },
    "247bc37b9e574314a981f08c8a0f0bbc": {
     "views": [
      {
       "cell_index": 0
      }
     ]
    },
    "26f0d538ac8c4084a4f8cf41db20a477": {
     "views": [
      {
       "cell_index": 0
      }
     ]
    },
    "2f31be81151f46318c8f8eb4602e1082": {
     "views": [
      {
       "cell_index": 0
      }
     ]
    },
    "32437424308f4fd78e2f55786395f533": {
     "views": [
      {
       "cell_index": 0
      }
     ]
    },
    "365a8ac16b41471ca1eb21c624a05f75": {
     "views": [
      {
       "cell_index": 0
      }
     ]
    },
    "3dde200be6f04a8ab9e21934ef96d4ef": {
     "views": [
      {
       "cell_index": 0
      }
     ]
    },
    "4e0919d994a5443db2bd7205c1daa032": {
     "views": [
      {
       "cell_index": 0
      }
     ]
    },
    "4e2b98909ffa4f3ab087657fa74ff3a3": {
     "views": [
      {
       "cell_index": 0
      }
     ]
    },
    "518509652818411f967afa6cb7733010": {
     "views": [
      {
       "cell_index": 0
      }
     ]
    },
    "5e8d24e9de5d4b54bc7622a7fe3d7e92": {
     "views": [
      {
       "cell_index": 0
      }
     ]
    },
    "6bf5e9c4864944fdb321c1aecf869b5a": {
     "views": [
      {
       "cell_index": 0
      }
     ]
    },
    "6e3a3a24e75d499fa73579044bb5bfab": {
     "views": [
      {
       "cell_index": 0
      }
     ]
    },
    "81ba9447133442618893859619648a63": {
     "views": [
      {
       "cell_index": 0
      }
     ]
    },
    "8559dd9c7616415b9c197428ede3aa6f": {
     "views": [
      {
       "cell_index": 0
      }
     ]
    },
    "85e719b8ae88439eb610cf40d40bbe05": {
     "views": [
      {
       "cell_index": 0
      }
     ]
    },
    "88b5562a018f4ba191635bff34a74dcc": {
     "views": [
      {
       "cell_index": 0
      }
     ]
    },
    "8ab9c3f0bfed4e478293e7e3b1051328": {
     "views": [
      {
       "cell_index": 0
      }
     ]
    },
    "8c7e1015ea3442028bb361cc16b01826": {
     "views": [
      {
       "cell_index": 0
      }
     ]
    },
    "96e6466779ef456f9ac35a6dc7d7fbda": {
     "views": [
      {
       "cell_index": 0
      }
     ]
    },
    "9ab573a3d13f4ddab82605759df618a8": {
     "views": [
      {
       "cell_index": 0
      }
     ]
    },
    "9bc516fcbdba4badbe427e5c576100cc": {
     "views": [
      {
       "cell_index": 0
      }
     ]
    },
    "a3ec499919f647febbc22eb712789221": {
     "views": [
      {
       "cell_index": 0
      }
     ]
    },
    "bef05caa179b43598ee2448c5b75957a": {
     "views": [
      {
       "cell_index": 0
      }
     ]
    },
    "c9aa3eb2e916462394bf1c65cfe22b09": {
     "views": [
      {
       "cell_index": 0
      }
     ]
    },
    "ca57ac4fffd84e499a90878fbeb5a806": {
     "views": [
      {
       "cell_index": 0
      }
     ]
    },
    "cfffec7b61184b5b935c1d89782a4d80": {
     "views": [
      {
       "cell_index": 0
      }
     ]
    },
    "d14d333110184ccea91a7cac2c89dcbe": {
     "views": [
      {
       "cell_index": 0
      }
     ]
    },
    "d1628ba99e2245a0b0f2b9fc185f4306": {
     "views": [
      {
       "cell_index": 0
      }
     ]
    },
    "d1f941379562402e9b57684e65c7111b": {
     "views": [
      {
       "cell_index": 0
      }
     ]
    },
    "d9f9eba69951477fa0631231ce648c6d": {
     "views": [
      {
       "cell_index": 0
      }
     ]
    },
    "dd06323ba8ce4e11be035c2e165eaa56": {
     "views": [
      {
       "cell_index": 0
      }
     ]
    },
    "de3b0f5206664e9eba29c3cd8f81086d": {
     "views": [
      {
       "cell_index": 0
      }
     ]
    },
    "df6b9cffe17d401e9b8fde00aa84386b": {
     "views": [
      {
       "cell_index": 0
      }
     ]
    },
    "e771602c713049b2bd60d08111cf766b": {
     "views": [
      {
       "cell_index": 0
      }
     ]
    },
    "fc3be1618ad34f6ab81244d678584414": {
     "views": [
      {
       "cell_index": 0
      }
     ]
    }
   },
   "version": "1.2.0"
  }
 },
 "nbformat": 4,
 "nbformat_minor": 2
}
